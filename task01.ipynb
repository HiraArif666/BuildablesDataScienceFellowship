{
 "cells": [
  {
   "cell_type": "code",
   "execution_count": null,
   "id": "e861c954",
   "metadata": {},
   "outputs": [],
   "source": [
    "Sum of Two Numbers:"
   ]
  },
  {
   "cell_type": "code",
   "execution_count": 1,
   "id": "e9d0e2af",
   "metadata": {},
   "outputs": [
    {
     "name": "stdout",
     "output_type": "stream",
     "text": [
      "The sum is: 4.0\n"
     ]
    }
   ],
   "source": [
    "num1 = float(input(\"Enter first number: \"))\n",
    "num2 = float(input(\"Enter second number: \"))\n",
    "sum_result = num1 + num2\n",
    "print(f\"The sum is: {sum_result}\")\n"
   ]
  },
  {
   "cell_type": "markdown",
   "id": "0b398ecf",
   "metadata": {},
   "source": [
    "Area of Circle:"
   ]
  },
  {
   "cell_type": "code",
   "execution_count": 3,
   "id": "2bca24c3",
   "metadata": {},
   "outputs": [
    {
     "name": "stdout",
     "output_type": "stream",
     "text": [
      "The area of the circle is: 78.53981633974483\n"
     ]
    }
   ],
   "source": [
    "import math\n",
    "radius = float(input(\"Enter the radius of the circle: \"))\n",
    "area = math.pi * (radius ** 2)\n",
    "print(f\"The area of the circle is: {area}\")\n"
   ]
  },
  {
   "cell_type": "markdown",
   "id": "80f273ad",
   "metadata": {},
   "source": [
    "Even or Odd:"
   ]
  },
  {
   "cell_type": "code",
   "execution_count": 4,
   "id": "98c37279",
   "metadata": {},
   "outputs": [
    {
     "name": "stdout",
     "output_type": "stream",
     "text": [
      "8 is even\n"
     ]
    }
   ],
   "source": [
    "number = int(input(\"Enter a number: \"))\n",
    "if number % 2 == 0:\n",
    "    print(f\"{number} is even\")\n",
    "else:\n",
    "    print(f\"{number} is odd\")"
   ]
  },
  {
   "cell_type": "markdown",
   "id": "90811846",
   "metadata": {},
   "source": [
    "Simple Calculator:"
   ]
  },
  {
   "cell_type": "code",
   "execution_count": 5,
   "id": "a9e4bd0b",
   "metadata": {},
   "outputs": [
    {
     "name": "stdout",
     "output_type": "stream",
     "text": [
      "The result is: 28.0\n"
     ]
    }
   ],
   "source": [
    "num1 = float(input(\"Enter first number: \"))\n",
    "num2 = float(input(\"Enter second number: \"))\n",
    "operation = input(\"Enter operation (+, -, *, /): \")\n",
    "if operation == '+':\n",
    "    result = num1 + num2\n",
    "elif operation == '-':\n",
    "    result = num1 - num2\n",
    "elif operation == '*':\n",
    "    result = num1 * num2\n",
    "elif operation == '/':\n",
    "    if num2 != 0:\n",
    "        result = num1 / num2\n",
    "    else:\n",
    "        result = \"Error! Division by zero.\"\n",
    "        print(result)\n",
    "        exit()\n",
    "else:\n",
    "    result = \"Invalid operation\"\n",
    "    print(result)\n",
    "    exit()\n",
    "print(f\"The result is: {result}\")"
   ]
  },
  {
   "cell_type": "markdown",
   "id": "8f21bf8c",
   "metadata": {},
   "source": [
    "Find the largest number:"
   ]
  },
  {
   "cell_type": "code",
   "execution_count": 6,
   "id": "0e2092a3",
   "metadata": {},
   "outputs": [
    {
     "name": "stdout",
     "output_type": "stream",
     "text": [
      "The largest number is: 8.0\n"
     ]
    }
   ],
   "source": [
    "num1 = float(input(\"Enter first number: \"))\n",
    "num2 = float(input(\"Enter second number: \"))\n",
    "num3 = float(input(\"Enter third number: \"))\n",
    "if num1 >= num2 and num1 >= num3:\n",
    "    largest = num1\n",
    "elif num2 >= num1 and num2 >= num3:\n",
    "    largest = num2\n",
    "else:\n",
    "    largest = num3\n",
    "print(f\"The largest number is: {largest}\")\n"
   ]
  },
  {
   "cell_type": "code",
   "execution_count": null,
   "id": "e5f45ec3",
   "metadata": {},
   "outputs": [],
   "source": [
    "Reverse a String:"
   ]
  },
  {
   "cell_type": "code",
   "execution_count": 7,
   "id": "e126c4ba",
   "metadata": {},
   "outputs": [
    {
     "name": "stdout",
     "output_type": "stream",
     "text": [
      "The reversed string is: olleh\n"
     ]
    }
   ],
   "source": [
    "string_to_reverse = input(\"Enter a string: \")\n",
    "reversed_string = string_to_reverse[::-1]\n",
    "print(f\"The reversed string is: {reversed_string}\")\n"
   ]
  },
  {
   "cell_type": "markdown",
   "id": "0d50c936",
   "metadata": {},
   "source": [
    "Count Vowels"
   ]
  },
  {
   "cell_type": "code",
   "execution_count": 8,
   "id": "b3ff1aa0",
   "metadata": {},
   "outputs": [
    {
     "name": "stdout",
     "output_type": "stream",
     "text": [
      "The number of vowels is: 2\n"
     ]
    }
   ],
   "source": [
    "user_string = input(\"Enter a string: \")\n",
    "vowels = \"aeiouAEIOU\"\n",
    "vowel_count = 0\n",
    "for char in user_string:\n",
    "    if char in vowels:\n",
    "        vowel_count += 1\n",
    "print(f\"The number of vowels is: {vowel_count}\")\n"
   ]
  },
  {
   "cell_type": "markdown",
   "id": "0ef7b617",
   "metadata": {},
   "source": [
    "Fibonacci Sequence:"
   ]
  },
  {
   "cell_type": "code",
   "execution_count": 9,
   "id": "a98b8f02",
   "metadata": {},
   "outputs": [
    {
     "name": "stdout",
     "output_type": "stream",
     "text": [
      "Fibonacci sequence:\n",
      "0 1 1 2 3 5 "
     ]
    }
   ],
   "source": [
    "n_terms = int(input(\"How many terms? \"))\n",
    "n1, n2 = 0, 1\n",
    "count = 0\n",
    "if n_terms <= 0:\n",
    "    print(\"Please enter a positive integer.\")\n",
    "elif n_terms == 1:\n",
    "    print(\"Fibonacci sequence:\")\n",
    "    print(n1)\n",
    "else:\n",
    "    print(\"Fibonacci sequence:\")\n",
    "    while count < n_terms:\n",
    "        print(n1, end=\" \")\n",
    "        nth = n1 + n2\n",
    "        n1 = n2\n",
    "        n2 = nth\n",
    "        count += 1\n"
   ]
  },
  {
   "cell_type": "markdown",
   "id": "1564cf7e",
   "metadata": {},
   "source": [
    "Check for Palindrome:"
   ]
  },
  {
   "cell_type": "code",
   "execution_count": 10,
   "id": "8b1862da",
   "metadata": {},
   "outputs": [
    {
     "name": "stdout",
     "output_type": "stream",
     "text": [
      "ababababa is a palindrome\n"
     ]
    }
   ],
   "source": [
    "user_string = input(\"Enter a string: \")\n",
    "reversed_string = user_string[::-1]\n",
    "if user_string == reversed_string:\n",
    "    print(f\"{user_string} is a palindrome\")\n",
    "else:\n",
    "    print(f\"{user_string} is not a palindrome\")\n"
   ]
  }
 ],
 "metadata": {
  "kernelspec": {
   "display_name": "Python (myenv)",
   "language": "python",
   "name": "myenv"
  },
  "language_info": {
   "codemirror_mode": {
    "name": "ipython",
    "version": 3
   },
   "file_extension": ".py",
   "mimetype": "text/x-python",
   "name": "python",
   "nbconvert_exporter": "python",
   "pygments_lexer": "ipython3",
   "version": "3.13.3"
  }
 },
 "nbformat": 4,
 "nbformat_minor": 5
}
