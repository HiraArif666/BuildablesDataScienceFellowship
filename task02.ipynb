{
 "cells": [
  {
   "cell_type": "markdown",
   "id": "fe09b357",
   "metadata": {},
   "source": [
    "Data Science Buildables Fellowship"
   ]
  },
  {
   "cell_type": "markdown",
   "id": "cabab770",
   "metadata": {},
   "source": [
    "Python Programming Tasks Solutions\n"
   ]
  },
  {
   "cell_type": "markdown",
   "id": "9a880bb5",
   "metadata": {},
   "source": [
    "This notebook contains solutions to a series of Python programming exercises, focusing on fundamental concepts like data structures, control flow, and algorithms."
   ]
  },
  {
   "cell_type": "markdown",
   "id": "d27bf0cf",
   "metadata": {},
   "source": [
    "Task 01: Palindrome Checker(word)"
   ]
  },
  {
   "cell_type": "markdown",
   "id": "0af077ec",
   "metadata": {},
   "source": [
    "A palindrome is a word or phrase that reads the same forwards and backward. The simplest way to check if a word is a palindrome in Python is to compare the word to its reversed version."
   ]
  },
  {
   "cell_type": "code",
   "execution_count": 1,
   "id": "755b4976",
   "metadata": {},
   "outputs": [
    {
     "name": "stdout",
     "output_type": "stream",
     "text": [
      "racecar is a palindrome.\n",
      "Python is not a palindrome.\n"
     ]
    }
   ],
   "source": [
    "def is_palindrome(word):\n",
    "  \"\"\"\n",
    "  Checks if a given word is a palindrome.\n",
    "\n",
    "  Args:\n",
    "    word: The word to be checked.\n",
    "\n",
    "  Returns:\n",
    "    A string indicating if the word is a palindrome.\n",
    "  \"\"\"\n",
    "  # Clean the word by converting it to lowercase and removing spaces\n",
    "  # This makes the check case-insensitive and ignores spaces\n",
    "  cleaned_word = word.lower().replace(\" \", \"\")\n",
    "\n",
    "  # Reverse the cleaned word using slicing\n",
    "  reversed_word = cleaned_word[::-1]\n",
    "\n",
    "  # Compare the cleaned word with its reversed version\n",
    "  if cleaned_word == reversed_word:\n",
    "    return f\"{word} is a palindrome.\"\n",
    "  else:\n",
    "    return f\"{word} is not a palindrome.\"\n",
    "\n",
    "# --- Example Usage ---\n",
    "# Input: \"racecar\"\n",
    "print(is_palindrome(\"racecar\"))\n",
    "\n",
    "# Input: \"Python\"\n",
    "print(is_palindrome(\"Python\"))"
   ]
  },
  {
   "cell_type": "markdown",
   "id": "56a93a63",
   "metadata": {},
   "source": [
    "Task 02: FizzBuzz"
   ]
  },
  {
   "cell_type": "markdown",
   "id": "49ea230d",
   "metadata": {},
   "source": [
    "The classic FizzBuzz problem is a common programming challenge that tests a developer's understanding of loops and conditional logic."
   ]
  },
  {
   "cell_type": "code",
   "execution_count": 5,
   "id": "73fde2f6",
   "metadata": {},
   "outputs": [
    {
     "name": "stdout",
     "output_type": "stream",
     "text": [
      "1\n",
      "2\n",
      "Fizz\n",
      "4\n",
      "Buzz\n",
      "Fizz\n",
      "7\n",
      "8\n",
      "Fizz\n",
      "Buzz\n",
      "11\n",
      "Fizz\n",
      "13\n",
      "14\n",
      "FizzBuzz\n",
      "16\n",
      "17\n",
      "Fizz\n",
      "19\n",
      "Buzz\n"
     ]
    }
   ],
   "source": [
    "def fizzbuzz():\n",
    "  \"\"\"\n",
    "  Prints numbers from 1 to 20 with special rules for multiples of 3, 5, and both.\n",
    "  \"\"\"\n",
    "  for number in range(1, 21):\n",
    "    # Check for multiples of both 3 and 5 first.\n",
    "    # The order of the conditions is important to avoid printing 'Fizz' or 'Buzz'\n",
    "    # for a number that should be 'FizzBuzz'.\n",
    "    if number % 3 == 0 and number % 5 == 0:\n",
    "      print(\"FizzBuzz\")\n",
    "    # Check for multiples of 3\n",
    "    elif number % 3 == 0:\n",
    "      print(\"Fizz\")\n",
    "    # Check for multiples of 5\n",
    "    elif number % 5 == 0:\n",
    "      print(\"Buzz\")\n",
    "    # If none of the above conditions are met, print the number\n",
    "    else:\n",
    "      print(number)\n",
    "\n",
    "# Run the function\n",
    "fizzbuzz()"
   ]
  },
  {
   "cell_type": "markdown",
   "id": "23b64ece",
   "metadata": {},
   "source": [
    "Task 03: nth Fibonacci Number"
   ]
  },
  {
   "cell_type": "markdown",
   "id": "ec1dc093",
   "metadata": {},
   "source": [
    "To find the Nth Fibonacci number, we can use a simple iterative approach. This method is efficient and avoids the performance issues of recursion by building the sequence from the beginning."
   ]
  },
  {
   "cell_type": "code",
   "execution_count": 6,
   "id": "62059358",
   "metadata": {},
   "outputs": [
    {
     "name": "stdout",
     "output_type": "stream",
     "text": [
      "The 10th Fibonacci number is 34.\n"
     ]
    }
   ],
   "source": [
    "def find_nth_fibonacci(n):\n",
    "  \"\"\"\n",
    "  Finds the nth Fibonacci number using an iterative approach.\n",
    "\n",
    "  Args:\n",
    "    n: The position in the Fibonacci sequence (an integer).\n",
    "\n",
    "  Returns:\n",
    "    A string with the calculated Fibonacci number.\n",
    "  \"\"\"\n",
    "  # Handle base cases for n=0 and n=1\n",
    "  if n <= 0:\n",
    "    return \"Please enter a positive integer.\"\n",
    "  elif n == 1:\n",
    "    return \"The 1st Fibonacci number is 0.\"\n",
    "  \n",
    "  # Initialize the first two Fibonacci numbers\n",
    "  a, b = 0, 1\n",
    "  \n",
    "  # Loop n-1 times to find the nth number\n",
    "  for _ in range(2, n + 1):\n",
    "    # Update the values to move to the next number in the sequence\n",
    "    a, b = b, a + b\n",
    "  \n",
    "  return f\"The {n}th Fibonacci number is {a}.\"\n",
    "\n",
    "# --- Example Usage ---\n",
    "# Input: 10\n",
    "print(find_nth_fibonacci(10))"
   ]
  },
  {
   "cell_type": "markdown",
   "id": "dd5905e7",
   "metadata": {},
   "source": [
    "Task 04: Prime Number Checker"
   ]
  },
  {
   "cell_type": "markdown",
   "id": "b7fe77dc",
   "metadata": {},
   "source": [
    "To check if a number is prime, we can write a function that determines if it has any divisors other than 1 and itself. A prime number is a natural number greater than 1 that has no positive divisors other than 1 and itself"
   ]
  },
  {
   "cell_type": "code",
   "execution_count": 7,
   "id": "22c60395",
   "metadata": {},
   "outputs": [
    {
     "name": "stdout",
     "output_type": "stream",
     "text": [
      "7 is a prime number.\n",
      "10 is not a prime number.\n"
     ]
    }
   ],
   "source": [
    "import math\n",
    "\n",
    "def is_prime(number):\n",
    "  \"\"\"\n",
    "  Checks if a given number is a prime number.\n",
    "\n",
    "  Args:\n",
    "    number: The integer to be checked.\n",
    "\n",
    "  Returns:\n",
    "    A string indicating if the number is prime.\n",
    "  \"\"\"\n",
    "  # Prime numbers are greater than 1\n",
    "  if number <= 1:\n",
    "    return f\"{number} is not a prime number.\"\n",
    "\n",
    "  # Check for divisors from 2 up to the square root of the number\n",
    "  # The int() and math.sqrt() functions are used to optimize the loop\n",
    "  for i in range(2, int(math.sqrt(number)) + 1):\n",
    "    if number % i == 0:\n",
    "      return f\"{number} is not a prime number.\"\n",
    "\n",
    "  # If no divisors are found, the number is prime\n",
    "  return f\"{number} is a prime number.\"\n",
    "\n",
    "# --- Example Usage ---\n",
    "# Input: 7\n",
    "print(is_prime(7))\n",
    "\n",
    "# Input: 10\n",
    "print(is_prime(10))"
   ]
  },
  {
   "cell_type": "markdown",
   "id": "03ec09d2",
   "metadata": {},
   "source": [
    "Task 05: Guess the Number Game"
   ]
  },
  {
   "cell_type": "markdown",
   "id": "37457edc",
   "metadata": {},
   "source": [
    "The computer will generate a random number between 1 and 100, and the user will have to guess it. The program will provide feedback after each guess, telling the user if their guess was too high or too low."
   ]
  },
  {
   "cell_type": "code",
   "execution_count": 8,
   "id": "69f6f53d",
   "metadata": {},
   "outputs": [
    {
     "name": "stdout",
     "output_type": "stream",
     "text": [
      "I'm thinking of a number between 1 and 100.\n",
      "Too low!\n",
      "Too high!\n",
      "Too high!\n",
      "Too high!\n",
      "Too high!\n",
      "Too high!\n",
      "Too low!\n",
      "Too low!\n",
      "Correct! You guessed the number.\n"
     ]
    }
   ],
   "source": [
    "import random\n",
    "\n",
    "def guess_the_number():\n",
    "  \"\"\"\n",
    "  A classic 'Guess the Number' game where the user guesses a randomly generated number.\n",
    "  \"\"\"\n",
    "  # Generate a random integer between 1 and 100 (inclusive)\n",
    "  secret_number = random.randint(1, 100)\n",
    "  guess = 0  # Initialize guess to a value that won't match the secret number\n",
    "\n",
    "  print(\"I'm thinking of a number between 1 and 100.\")\n",
    "  \n",
    "  # Use a while loop to keep the game running until the guess is correct\n",
    "  while guess != secret_number:\n",
    "    try:\n",
    "      # Prompt the user for a guess and convert the input to an integer\n",
    "      guess = int(input(\"Take a guess: \"))\n",
    "\n",
    "      # Provide feedback on the guess\n",
    "      if guess > secret_number:\n",
    "        print(\"Too high!\")\n",
    "      elif guess < secret_number:\n",
    "        print(\"Too low!\")\n",
    "      else:\n",
    "        # This condition is met when the guess is correct\n",
    "        print(\"Correct! You guessed the number.\")\n",
    "    except ValueError:\n",
    "      # Handle cases where the user enters a non-integer value\n",
    "      print(\"Invalid input. Please enter a valid number.\")\n",
    "\n",
    "# Run the game\n",
    "guess_the_number()"
   ]
  },
  {
   "cell_type": "markdown",
   "id": "62b280ff",
   "metadata": {},
   "source": [
    "Task 06: List Comprehension"
   ]
  },
  {
   "cell_type": "markdown",
   "id": "63703223",
   "metadata": {},
   "source": [
    "The most Pythonic way to solve this is with a single line of code using a list comprehension. The syntax for a list comprehension is [expression for item in iterable]. In this case, the expression is squaring the number (n*n or n**2), and the iterable is the range of numbers from 1 to 10."
   ]
  },
  {
   "cell_type": "code",
   "execution_count": 9,
   "id": "e7c69772",
   "metadata": {},
   "outputs": [
    {
     "name": "stdout",
     "output_type": "stream",
     "text": [
      "[1, 4, 9, 16, 25, 36, 49, 64, 81, 100]\n"
     ]
    }
   ],
   "source": [
    "# Create a list of the squares of the first 10 integers (1 to 10)\n",
    "# The expression `n*n` squares each number `n` in the range\n",
    "squares_list = [n*n for n in range(1, 11)]\n",
    "\n",
    "# Print the resulting list\n",
    "print(squares_list)"
   ]
  },
  {
   "cell_type": "markdown",
   "id": "4ec1e695",
   "metadata": {},
   "source": [
    "Task 07: Palindrome Sentences"
   ]
  },
  {
   "cell_type": "markdown",
   "id": "5d5901e4",
   "metadata": {},
   "source": [
    "Python function that checks if a sentence is a palindrome, ignoring spaces and punctuation. It uses the string module to define all punctuation characters and then builds a new, clean string to perform the check."
   ]
  },
  {
   "cell_type": "code",
   "execution_count": 10,
   "id": "3b46cf8b",
   "metadata": {},
   "outputs": [
    {
     "name": "stdout",
     "output_type": "stream",
     "text": [
      "\"A man, a plan, a canal: Panama\" is a palindrome.\n",
      "\"Hello, world!\" is not a palindrome.\n"
     ]
    }
   ],
   "source": [
    "import string\n",
    "\n",
    "def is_palindrome_sentence(sentence):\n",
    "  \"\"\"\n",
    "  Checks if a sentence is a palindrome, ignoring spaces and punctuation.\n",
    "\n",
    "  Args:\n",
    "    sentence: The string to be checked.\n",
    "\n",
    "  Returns:\n",
    "    A string indicating if the sentence is a palindrome.\n",
    "  \"\"\"\n",
    "  # Create a translation table to remove all punctuation\n",
    "  translator = str.maketrans('', '', string.punctuation)\n",
    "  \n",
    "  # Remove punctuation and spaces, and convert to lowercase\n",
    "  cleaned_sentence = sentence.translate(translator).replace(\" \", \"\").lower()\n",
    "  \n",
    "  # Check if the cleaned sentence is the same as its reverse\n",
    "  if cleaned_sentence == cleaned_sentence[::-1]:\n",
    "    return f\"\\\"{sentence}\\\" is a palindrome.\"\n",
    "  else:\n",
    "    return f\"\\\"{sentence}\\\" is not a palindrome.\"\n",
    "\n",
    "# --- Example Usage ---\n",
    "# Input: \"A man, a plan, a canal: Panama\"\n",
    "print(is_palindrome_sentence(\"A man, a plan, a canal: Panama\"))\n",
    "\n",
    "# Input: \"Hello, world!\"\n",
    "print(is_palindrome_sentence(\"Hello, world!\"))"
   ]
  },
  {
   "cell_type": "markdown",
   "id": "873ed008",
   "metadata": {},
   "source": [
    "Task 08: Anagram Checker"
   ]
  },
  {
   "cell_type": "markdown",
   "id": "78d95cdc",
   "metadata": {},
   "source": [
    "To check if two words are anagrams, we can use a simple and effective method: compare their sorted versions. If the sorted letters of both words are the same, they must be anagrams of each other. "
   ]
  },
  {
   "cell_type": "code",
   "execution_count": 11,
   "id": "f267dc3d",
   "metadata": {},
   "outputs": [
    {
     "name": "stdout",
     "output_type": "stream",
     "text": [
      "\"listen\" and \"silent\" are anagrams.\n",
      "\"python\" and \"java\" are not anagrams.\n"
     ]
    }
   ],
   "source": [
    "def are_anagrams(word1, word2):\n",
    "  \"\"\"\n",
    "  Checks if two words are anagrams of each other.\n",
    "\n",
    "  Args:\n",
    "    word1: The first word to check.\n",
    "    word2: The second word to check.\n",
    "\n",
    "  Returns:\n",
    "    A string indicating whether the words are anagrams.\n",
    "  \"\"\"\n",
    "  # Clean and sort both words. The sorted() function returns a sorted list of characters.\n",
    "  sorted_word1 = sorted(word1.lower())\n",
    "  sorted_word2 = sorted(word2.lower())\n",
    "\n",
    "  # Compare the sorted lists of characters\n",
    "  if sorted_word1 == sorted_word2:\n",
    "    return f\"\\\"{word1}\\\" and \\\"{word2}\\\" are anagrams.\"\n",
    "  else:\n",
    "    return f\"\\\"{word1}\\\" and \\\"{word2}\\\" are not anagrams.\"\n",
    "\n",
    "# --- Example Usage ---\n",
    "# Input: \"listen\", \"silent\"\n",
    "print(are_anagrams(\"listen\", \"silent\"))\n",
    "\n",
    "# Input: \"python\", \"java\"\n",
    "print(are_anagrams(\"python\", \"java\"))"
   ]
  },
  {
   "cell_type": "markdown",
   "id": "95e747de",
   "metadata": {},
   "source": [
    "Task 09: Reverse Words in Sentences"
   ]
  },
  {
   "cell_type": "markdown",
   "id": "23c91af1",
   "metadata": {},
   "source": [
    "To reverse the order of words in a sentence, we can split the sentence into a list of words, reverse that list, and then join the words back together into a single string. This approach is simple and effective."
   ]
  },
  {
   "cell_type": "code",
   "execution_count": 12,
   "id": "9a3a39c5",
   "metadata": {},
   "outputs": [
    {
     "name": "stdout",
     "output_type": "stream",
     "text": [
      "dog. lazy the over jumps fox brown quick The\n"
     ]
    }
   ],
   "source": [
    "def reverse_sentence(sentence):\n",
    "  \"\"\"\n",
    "  Reverses the order of words in a given sentence.\n",
    "\n",
    "  Args:\n",
    "    sentence: The string to be reversed.\n",
    "\n",
    "  Returns:\n",
    "    The sentence with the words in reverse order.\n",
    "  \"\"\"\n",
    "  # Split the sentence into a list of words\n",
    "  words = sentence.split(' ')\n",
    "\n",
    "  # Reverse the list of words using slicing\n",
    "  reversed_words = words[::-1]\n",
    "\n",
    "  # Join the reversed words back into a single string with spaces\n",
    "  reversed_sentence = ' '.join(reversed_words)\n",
    "  \n",
    "  return reversed_sentence\n",
    "\n",
    "# --- Example Usage ---\n",
    "# Input: \"The quick brown fox jumps over the lazy dog.\"\n",
    "print(reverse_sentence(\"The quick brown fox jumps over the lazy dog.\"))"
   ]
  },
  {
   "cell_type": "markdown",
   "id": "1e2d60c7",
   "metadata": {},
   "source": [
    "Task 10: Temperature Convertor"
   ]
  },
  {
   "cell_type": "markdown",
   "id": "a1e9be80",
   "metadata": {},
   "source": [
    "Converting temperatures between Celsius, Fahrenheit, and Kelvin requires specific formulas for each conversion. The key is to handle these conversions systematically within a function that can accept a temperature value and its corresponding unit."
   ]
  },
  {
   "cell_type": "code",
   "execution_count": 13,
   "id": "65f06c42",
   "metadata": {},
   "outputs": [
    {
     "name": "stdout",
     "output_type": "stream",
     "text": [
      "20°C = 68.0°F = 293.15K\n"
     ]
    }
   ],
   "source": [
    "def convert_temperature(celsius):\n",
    "  \"\"\"\n",
    "  Converts a temperature from Celsius to Fahrenheit and Kelvin.\n",
    "\n",
    "  Args:\n",
    "    celsius: The temperature in Celsius (float or int).\n",
    "\n",
    "  Returns:\n",
    "    A formatted string with the converted temperatures.\n",
    "  \"\"\"\n",
    "  # Convert Celsius to Fahrenheit\n",
    "  fahrenheit = (celsius * 9/5) + 32\n",
    "  \n",
    "  # Convert Celsius to Kelvin\n",
    "  kelvin = celsius + 273.15\n",
    "  \n",
    "  # Return the formatted string with two decimal places for Fahrenheit and Kelvin\n",
    "  return f\"{celsius}°C = {fahrenheit}°F = {kelvin}K\"\n",
    "\n",
    "# --- Example Usage ---\n",
    "# Input: 20°C\n",
    "print(convert_temperature(20))"
   ]
  },
  {
   "cell_type": "markdown",
   "id": "e15f16df",
   "metadata": {},
   "source": [
    "Task 11: Custom Iterator"
   ]
  },
  {
   "cell_type": "markdown",
   "id": "4897d72c",
   "metadata": {},
   "source": [
    "A custom iterator in Python is an object that can be iterated upon, meaning we can loop through it. To create a custom iterator, we need to implement two methods in our class: __iter__() and __next__()."
   ]
  },
  {
   "cell_type": "code",
   "execution_count": 14,
   "id": "5e4be57b",
   "metadata": {},
   "outputs": [
    {
     "name": "stdout",
     "output_type": "stream",
     "text": [
      "0\n",
      "2\n",
      "4\n",
      "6\n",
      "8\n",
      "10\n"
     ]
    }
   ],
   "source": [
    "class EvenNumbers:\n",
    "  \"\"\"\n",
    "  A custom iterator that generates even numbers up to a given limit.\n",
    "  \"\"\"\n",
    "  def __init__(self, limit):\n",
    "    # Initialize the limit and the current number for iteration\n",
    "    self.limit = limit\n",
    "    self.current = 0\n",
    "\n",
    "  def __iter__(self):\n",
    "    # This method makes the class an iterable\n",
    "    return self\n",
    "\n",
    "  def __next__(self):\n",
    "    # Check if the current number has reached the limit\n",
    "    if self.current > self.limit:\n",
    "      # If so, stop the iteration\n",
    "      raise StopIteration\n",
    "    else:\n",
    "      # Store the current even number to be returned\n",
    "      number_to_return = self.current\n",
    "      # Increment the current number by 2 to get the next even number\n",
    "      self.current += 2\n",
    "      # Return the stored even number\n",
    "      return number_to_return\n",
    "\n",
    "# --- Example Usage ---\n",
    "# Create an instance of the iterator\n",
    "it = EvenNumbers(10)\n",
    "\n",
    "# Loop through the iterator and print each even number\n",
    "for num in it:\n",
    "  print(num)"
   ]
  }
 ],
 "metadata": {
  "kernelspec": {
   "display_name": "Python (myenv)",
   "language": "python",
   "name": "myenv"
  },
  "language_info": {
   "codemirror_mode": {
    "name": "ipython",
    "version": 3
   },
   "file_extension": ".py",
   "mimetype": "text/x-python",
   "name": "python",
   "nbconvert_exporter": "python",
   "pygments_lexer": "ipython3",
   "version": "3.13.3"
  }
 },
 "nbformat": 4,
 "nbformat_minor": 5
}
