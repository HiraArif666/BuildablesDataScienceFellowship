{
 "cells": [
  {
   "cell_type": "markdown",
   "id": "db0e2f42",
   "metadata": {},
   "source": [
    "# **Data Science Buildables Fellowship**"
   ]
  },
  {
   "cell_type": "code",
   "execution_count": 1,
   "id": "decf3dc8",
   "metadata": {},
   "outputs": [],
   "source": [
    "import pandas as pd\n",
    "from sklearn.model_selection import train_test_split\n",
    "from sklearn.preprocessing import StandardScaler\n",
    "from sklearn.linear_model import LogisticRegression\n",
    "from sklearn.metrics import precision_score, recall_score, f1_score"
   ]
  },
  {
   "cell_type": "markdown",
   "id": "db2b3873",
   "metadata": {},
   "source": [
    "### **HR Employee Attrition**"
   ]
  },
  {
   "cell_type": "code",
   "execution_count": 2,
   "id": "3feed7ae",
   "metadata": {},
   "outputs": [
    {
     "name": "stdout",
     "output_type": "stream",
     "text": [
      "Precision: 0.6153846153846154\n",
      "Recall: 0.3404255319148936\n",
      "F1-score: 0.4383561643835616\n"
     ]
    },
    {
     "name": "stderr",
     "output_type": "stream",
     "text": [
      "C:\\Users\\Hp\\AppData\\Local\\Temp\\ipykernel_15728\\1927816131.py:2: FutureWarning: DataFrame.fillna with 'method' is deprecated and will raise in a future version. Use obj.ffill() or obj.bfill() instead.\n",
      "  df.fillna(method=\"ffill\", inplace=True)\n"
     ]
    }
   ],
   "source": [
    "df = pd.read_csv(r\"D:\\Buildables Internship\\BuildablesDataScienceFellowship\\Task#12\\HR-Employee-Attrition.csv\")\n",
    "df.fillna(method=\"ffill\", inplace=True)\n",
    "y = df['Attrition'].map({'Yes':1, 'No':0})\n",
    "X = pd.get_dummies(df.drop(columns=['Attrition']), drop_first=True)\n",
    "\n",
    "X_train, X_test, y_train, y_test = train_test_split(X, y, test_size=0.2, random_state=42, stratify=y)\n",
    "sc = StandardScaler(); X_train = sc.fit_transform(X_train); X_test = sc.transform(X_test)\n",
    "\n",
    "model = LogisticRegression(max_iter=1000)\n",
    "model.fit(X_train, y_train)\n",
    "y_pred = model.predict(X_test)\n",
    "\n",
    "print(\"Precision:\", precision_score(y_test, y_pred))\n",
    "print(\"Recall:\", recall_score(y_test, y_pred))\n",
    "print(\"F1-score:\", f1_score(y_test, y_pred))\n"
   ]
  },
  {
   "cell_type": "markdown",
   "id": "3db47002",
   "metadata": {},
   "source": [
    "### **Heart Disease Prediction**"
   ]
  },
  {
   "cell_type": "code",
   "execution_count": 3,
   "id": "6225e170",
   "metadata": {},
   "outputs": [
    {
     "name": "stdout",
     "output_type": "stream",
     "text": [
      "Accuracy: 0.7625\n",
      "ROC-AUC: 0.5094546875\n"
     ]
    }
   ],
   "source": [
    "from sklearn.neighbors import KNeighborsClassifier\n",
    "from sklearn.metrics import accuracy_score, roc_auc_score \n",
    "\n",
    "# Load dataset\n",
    "df = pd.read_csv(r\"D:\\Buildables Internship\\BuildablesDataScienceFellowship\\Task#12\\heart_disease.csv\")\n",
    "\n",
    "# Handle missing values\n",
    "df.fillna(df.mean(numeric_only=True), inplace=True)\n",
    "\n",
    "# Separate features and target\n",
    "y = df['Heart Disease Status'].map({'Yes':1, 'No':0})  # encode target\n",
    "X = df.drop(columns=['Heart Disease Status'])\n",
    "\n",
    "# One-hot encode categorical features\n",
    "X = pd.get_dummies(X, drop_first=True)\n",
    "\n",
    "# Train-test split\n",
    "X_train, X_test, y_train, y_test = train_test_split(\n",
    "    X, y, test_size=0.2, random_state=42, stratify=y\n",
    ")\n",
    "\n",
    "# Scale features\n",
    "sc = StandardScaler()\n",
    "X_train = sc.fit_transform(X_train)\n",
    "X_test = sc.transform(X_test)\n",
    "\n",
    "# Train KNN\n",
    "knn = KNeighborsClassifier(n_neighbors=5)\n",
    "knn.fit(X_train, y_train)\n",
    "\n",
    "# Predictions\n",
    "y_pred = knn.predict(X_test)\n",
    "y_proba = knn.predict_proba(X_test)[:,1]\n",
    "\n",
    "print(\"Accuracy:\", accuracy_score(y_test, y_pred))\n",
    "print(\"ROC-AUC:\", roc_auc_score(y_test, y_proba))"
   ]
  },
  {
   "cell_type": "markdown",
   "id": "9b2fb70d",
   "metadata": {},
   "source": [
    "### **Hospital Readmissions**"
   ]
  },
  {
   "cell_type": "code",
   "execution_count": 4,
   "id": "9255b5ea",
   "metadata": {},
   "outputs": [
    {
     "name": "stdout",
     "output_type": "stream",
     "text": [
      "Precision: 0.22727272727272727\n",
      "Recall: 0.006802721088435374\n",
      "F1-score: 0.013210039630118891\n"
     ]
    }
   ],
   "source": [
    "from sklearn.linear_model import LogisticRegression\n",
    "from sklearn.metrics import precision_score, recall_score, f1_score\n",
    "\n",
    "# Load dataset\n",
    "df = pd.read_csv(r\"D:\\Buildables Internship\\BuildablesDataScienceFellowship\\Task#12\\hospital_readmissions_30k.csv\")\n",
    "\n",
    "# Map target0\n",
    "y = df['readmitted_30_days'].apply(lambda v: 1 if str(v).strip().lower() == \"yes\" else 0)\n",
    "\n",
    "# One-hot encode categorical predictors\n",
    "X = pd.get_dummies(df.drop(columns=['readmitted_30_days']), drop_first=True)\n",
    "\n",
    "# Train-test split with stratification to handle class imbalance\n",
    "X_train, X_test, y_train, y_test = train_test_split(\n",
    "    X, y, test_size=0.2, random_state=42, stratify=y\n",
    ")\n",
    "\n",
    "# Scale numeric features\n",
    "sc = StandardScaler()\n",
    "X_train = sc.fit_transform(X_train)\n",
    "X_test = sc.transform(X_test)\n",
    "\n",
    "# Logistic Regression\n",
    "model = LogisticRegression(max_iter=1000)\n",
    "model.fit(X_train, y_train)\n",
    "y_pred = model.predict(X_test)\n",
    "\n",
    "# Metrics\n",
    "print(\"Precision:\", precision_score(y_test, y_pred))\n",
    "print(\"Recall:\", recall_score(y_test, y_pred))\n",
    "print(\"F1-score:\", f1_score(y_test, y_pred))\n"
   ]
  },
  {
   "cell_type": "markdown",
   "id": "2cf24c00",
   "metadata": {},
   "source": [
    "### **Credit Card**"
   ]
  },
  {
   "cell_type": "code",
   "execution_count": 5,
   "id": "095bb102",
   "metadata": {},
   "outputs": [
    {
     "name": "stdout",
     "output_type": "stream",
     "text": [
      "Confusion Matrix:\n",
      " [[56840    24]\n",
      " [   25    73]]\n",
      "ROC-AUC: 0.8722379497662881\n"
     ]
    }
   ],
   "source": [
    "from sklearn.tree import DecisionTreeClassifier\n",
    "from sklearn.metrics import confusion_matrix, roc_auc_score\n",
    "\n",
    "df = pd.read_csv(r\"D:\\Buildables Internship\\BuildablesDataScienceFellowship\\Task#12\\creditcard.csv\")\n",
    "y = df['Class']\n",
    "X = df.drop(columns=['Class'])\n",
    "\n",
    "X_train, X_test, y_train, y_test = train_test_split(X, y, test_size=0.2, random_state=42, stratify=y)\n",
    "sc = StandardScaler(); X_train = sc.fit_transform(X_train); X_test = sc.transform(X_test)\n",
    "\n",
    "dt = DecisionTreeClassifier(random_state=42)\n",
    "dt.fit(X_train, y_train)\n",
    "y_pred = dt.predict(X_test)\n",
    "y_proba = dt.predict_proba(X_test)[:,1]\n",
    "\n",
    "print(\"Confusion Matrix:\\n\", confusion_matrix(y_test, y_pred))\n",
    "print(\"ROC-AUC:\", roc_auc_score(y_test, y_proba))"
   ]
  },
  {
   "cell_type": "markdown",
   "id": "9bd90b49",
   "metadata": {},
   "source": [
    "### **Wine Quality**"
   ]
  },
  {
   "cell_type": "code",
   "execution_count": 6,
   "id": "f8f9b15f",
   "metadata": {},
   "outputs": [
    {
     "name": "stdout",
     "output_type": "stream",
     "text": [
      "Accuracy: 0.90625\n",
      "ROC-AUC: 0.8181512887247082\n"
     ]
    }
   ],
   "source": [
    "from sklearn.tree import DecisionTreeClassifier\n",
    "from sklearn.metrics import accuracy_score, roc_auc_score\n",
    "\n",
    "df = pd.read_csv(r\"D:\\Buildables Internship\\BuildablesDataScienceFellowship\\Task#12\\winequality-red.csv\")\n",
    "y = (df['quality'] >= 7).astype(int)\n",
    "X = df.drop(columns=['quality'])\n",
    "\n",
    "X_train, X_test, y_train, y_test = train_test_split(X, y, test_size=0.2, random_state=42, stratify=y)\n",
    "sc = StandardScaler(); X_train = sc.fit_transform(X_train); X_test = sc.transform(X_test)\n",
    "\n",
    "dt = DecisionTreeClassifier(random_state=42)\n",
    "dt.fit(X_train, y_train)\n",
    "y_pred = dt.predict(X_test)\n",
    "y_proba = dt.predict_proba(X_test)[:,1]\n",
    "\n",
    "print(\"Accuracy:\", accuracy_score(y_test, y_pred))\n",
    "print(\"ROC-AUC:\", roc_auc_score(y_test, y_proba))\n"
   ]
  },
  {
   "cell_type": "markdown",
   "id": "de6a2607",
   "metadata": {},
   "source": [
    "### **Spam.csv**"
   ]
  },
  {
   "cell_type": "code",
   "execution_count": 11,
   "id": "644c6289",
   "metadata": {},
   "outputs": [
    {
     "name": "stdout",
     "output_type": "stream",
     "text": [
      "Precision: 0.9916666666666667\n",
      "Recall: 0.7986577181208053\n",
      "F1-score: 0.8847583643122676\n",
      "ROC-AUC: 0.9883210360304029\n"
     ]
    }
   ],
   "source": [
    "from sklearn.feature_extraction.text import TfidfVectorizer\n",
    "from sklearn.naive_bayes import MultinomialNB\n",
    "from sklearn.metrics import precision_score, recall_score, f1_score, roc_auc_score\n",
    "\n",
    "df = pd.read_csv(r\"D:\\Buildables Internship\\BuildablesDataScienceFellowship\\Task#12\\spam.csv\", encoding=\"latin-1\")[['v1','v2']]\n",
    "df = df.rename(columns={'v1':'label','v2':'message'})\n",
    "df['label'] = df['label'].map({'spam':1, 'ham':0})\n",
    "\n",
    "X = df['message']\n",
    "y = df['label']\n",
    "X_train, X_test, y_train, y_test = train_test_split(X, y, test_size=0.2, random_state=42, stratify=y)\n",
    "\n",
    "vec = TfidfVectorizer(max_features=5000, stop_words='english')\n",
    "X_train = vec.fit_transform(X_train)\n",
    "X_test = vec.transform(X_test)\n",
    "\n",
    "nb = MultinomialNB()\n",
    "nb.fit(X_train, y_train)\n",
    "y_pred = nb.predict(X_test)\n",
    "y_proba = nb.predict_proba(X_test)[:,1]\n",
    "\n",
    "print(\"Precision:\", precision_score(y_test, y_pred))\n",
    "print(\"Recall:\", recall_score(y_test, y_pred))\n",
    "print(\"F1-score:\", f1_score(y_test, y_pred))\n",
    "print(\"ROC-AUC:\", roc_auc_score(y_test, y_proba))"
   ]
  },
  {
   "cell_type": "markdown",
   "id": "f07917a8",
   "metadata": {},
   "source": [
    "### **Diabetes**"
   ]
  },
  {
   "cell_type": "code",
   "execution_count": 8,
   "id": "9362513d",
   "metadata": {},
   "outputs": [
    {
     "name": "stdout",
     "output_type": "stream",
     "text": [
      "Accuracy: 0.7597402597402597\n",
      "ROC-AUC: 0.8147222222222222\n"
     ]
    }
   ],
   "source": [
    "from sklearn.ensemble import RandomForestClassifier\n",
    "from sklearn.metrics import accuracy_score, roc_auc_score\n",
    "\n",
    "df = pd.read_csv(r\"D:\\Buildables Internship\\BuildablesDataScienceFellowship\\Task#12\\diabetes.csv\")\n",
    "y = df['Outcome']\n",
    "X = df.drop(columns=['Outcome'])\n",
    "\n",
    "X_train, X_test, y_train, y_test = train_test_split(X, y, test_size=0.2, random_state=42, stratify=y)\n",
    "sc = StandardScaler(); X_train = sc.fit_transform(X_train); X_test = sc.transform(X_test)\n",
    "\n",
    "rf = RandomForestClassifier(n_estimators=100, random_state=42)\n",
    "rf.fit(X_train, y_train)\n",
    "y_pred = rf.predict(X_test)\n",
    "y_proba = rf.predict_proba(X_test)[:,1]\n",
    "\n",
    "print(\"Accuracy:\", accuracy_score(y_test, y_pred))\n",
    "print(\"ROC-AUC:\", roc_auc_score(y_test, y_proba))\n"
   ]
  },
  {
   "cell_type": "markdown",
   "id": "10b732e5",
   "metadata": {},
   "source": [
    "### **Iris Dataset**"
   ]
  },
  {
   "cell_type": "code",
   "execution_count": 9,
   "id": "46c4bd75",
   "metadata": {},
   "outputs": [
    {
     "name": "stdout",
     "output_type": "stream",
     "text": [
      "Accuracy: 0.9666666666666667\n",
      "Precision (macro): 0.9696969696969697\n",
      "Recall (macro): 0.9666666666666667\n"
     ]
    }
   ],
   "source": [
    "\n",
    "\n",
    "from sklearn.datasets import load_iris\n",
    "from sklearn.svm import SVC\n",
    "from sklearn.metrics import accuracy_score, precision_score, recall_score\n",
    "\n",
    "iris = load_iris()\n",
    "X, y = iris.data, iris.target\n",
    "\n",
    "X_train, X_test, y_train, y_test = train_test_split(X, y, test_size=0.2, random_state=42, stratify=y)\n",
    "sc = StandardScaler(); X_train = sc.fit_transform(X_train); X_test = sc.transform(X_test)\n",
    "\n",
    "svm = SVC(kernel='rbf', probability=True, random_state=42)\n",
    "svm.fit(X_train, y_train)\n",
    "y_pred = svm.predict(X_test)\n",
    "\n",
    "print(\"Accuracy:\", accuracy_score(y_test, y_pred))\n",
    "print(\"Precision (macro):\", precision_score(y_test, y_pred, average='macro'))\n",
    "print(\"Recall (macro):\", recall_score(y_test, y_pred, average='macro'))"
   ]
  },
  {
   "cell_type": "markdown",
   "id": "14da2fb2",
   "metadata": {},
   "source": [
    "### **Breast Cancer**"
   ]
  },
  {
   "cell_type": "code",
   "execution_count": 10,
   "id": "f7ca6508",
   "metadata": {},
   "outputs": [
    {
     "name": "stdout",
     "output_type": "stream",
     "text": [
      "Accuracy: 0.956140350877193\n",
      "Confusion Matrix:\n",
      " [[39  3]\n",
      " [ 2 70]]\n"
     ]
    }
   ],
   "source": [
    "from sklearn.datasets import load_breast_cancer\n",
    "from sklearn.neighbors import KNeighborsClassifier\n",
    "from sklearn.metrics import accuracy_score, confusion_matrix\n",
    "\n",
    "data = load_breast_cancer()\n",
    "X, y = data.data, data.target\n",
    "\n",
    "X_train, X_test, y_train, y_test = train_test_split(X, y, test_size=0.2, random_state=42, stratify=y)\n",
    "sc = StandardScaler(); X_train = sc.fit_transform(X_train); X_test = sc.transform(X_test)\n",
    "\n",
    "knn = KNeighborsClassifier(n_neighbors=5)\n",
    "knn.fit(X_train, y_train)\n",
    "y_pred = knn.predict(X_test)\n",
    "\n",
    "print(\"Accuracy:\", accuracy_score(y_test, y_pred))\n",
    "print(\"Confusion Matrix:\\n\", confusion_matrix(y_test, y_pred))"
   ]
  },
  {
   "cell_type": "code",
   "execution_count": null,
   "id": "59bb69ac",
   "metadata": {},
   "outputs": [],
   "source": []
  }
 ],
 "metadata": {
  "kernelspec": {
   "display_name": "Python 3",
   "language": "python",
   "name": "python3"
  },
  "language_info": {
   "codemirror_mode": {
    "name": "ipython",
    "version": 3
   },
   "file_extension": ".py",
   "mimetype": "text/x-python",
   "name": "python",
   "nbconvert_exporter": "python",
   "pygments_lexer": "ipython3",
   "version": "3.13.5"
  }
 },
 "nbformat": 4,
 "nbformat_minor": 5
}
