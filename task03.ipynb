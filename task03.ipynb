{
 "cells": [
  {
   "cell_type": "markdown",
   "id": "d82e7394",
   "metadata": {},
   "source": [
    "# **DataScience Buildables Fellowship**"
   ]
  },
  {
   "cell_type": "markdown",
   "id": "16a56210",
   "metadata": {},
   "source": [
    "### **Task 01: Recursive Factorial**"
   ]
  },
  {
   "cell_type": "markdown",
   "id": "e66fe6fe",
   "metadata": {},
   "source": [
    "**A recursive function calls itself to solve a smaller version of the same problem. For a factorial, the base case is n = 0 or n = 1, where the factorial is 1. The recursive step is n * factorial(n - 1)**"
   ]
  },
  {
   "cell_type": "code",
   "execution_count": 1,
   "id": "c670ac9e",
   "metadata": {},
   "outputs": [
    {
     "name": "stdout",
     "output_type": "stream",
     "text": [
      "The factorial of 5 is 120.\n"
     ]
    }
   ],
   "source": [
    "def factorial_recursive(n):\n",
    "    if n < 0:\n",
    "        raise ValueError(\"Factorial is not defined for negative numbers.\")\n",
    "    if n == 0:\n",
    "        return 1\n",
    "    else:\n",
    "        return n * factorial_recursive(n - 1)\n",
    "\n",
    "# Example usage:\n",
    "number = 5\n",
    "print(f\"The factorial of {number} is {factorial_recursive(number)}.\")"
   ]
  },
  {
   "cell_type": "markdown",
   "id": "3d27d7e7",
   "metadata": {},
   "source": [
    "### **Task 02: Palindrome Linked List**"
   ]
  },
  {
   "cell_type": "markdown",
   "id": "e4a1f37d",
   "metadata": {},
   "source": [
    "**To check if a linked list is a palindrome, we can traverse it and store the values in a list or array. Then, check if this list is a palindrome by comparing it to its reverse. A more memory-efficient approach involves reversing the second half of the list and then comparing it with the first half.**"
   ]
  },
  {
   "cell_type": "code",
   "execution_count": 2,
   "id": "dbcf85de",
   "metadata": {},
   "outputs": [
    {
     "name": "stdout",
     "output_type": "stream",
     "text": [
      "The linked list is a palindrome.\n",
      "The linked list is not a palindrome.\n"
     ]
    }
   ],
   "source": [
    "class Node:\n",
    "    def __init__(self, value=0, next_node=None):\n",
    "        self.value = value\n",
    "        self.next = next_node\n",
    "\n",
    "def is_palindrome_linked_list(head):\n",
    "    values = []\n",
    "    current = head\n",
    "    while current:\n",
    "        values.append(current.value)\n",
    "        current = current.next\n",
    "    return values == values[::-1]\n",
    "\n",
    "# Example 1: Palindrome\n",
    "head1 = Node(1, Node(2, Node(3, Node(2, Node(1)))))\n",
    "print(f\"The linked list is a palindrome.\" if is_palindrome_linked_list(head1) else f\"The linked list is not a palindrome.\")\n",
    "\n",
    "# Example 2: Not a palindrome\n",
    "head2 = Node(1, Node(2, Node(3, Node(4, Node(5)))))\n",
    "print(f\"The linked list is a palindrome.\" if is_palindrome_linked_list(head2) else f\"The linked list is not a palindrome.\")"
   ]
  },
  {
   "cell_type": "markdown",
   "id": "8bf6f14a",
   "metadata": {},
   "source": [
    "### **Task 03: Merge Sorted Arrays**"
   ]
  },
  {
   "cell_type": "markdown",
   "id": "7a41691d",
   "metadata": {},
   "source": [
    "**This function merges two already sorted arrays into a single sorted array. A simple and efficient way to do this is to use two pointers, one for each array, and compare the elements at each pointer, adding the smaller one to the result array.**"
   ]
  },
  {
   "cell_type": "code",
   "execution_count": 3,
   "id": "1d528086",
   "metadata": {},
   "outputs": [
    {
     "name": "stdout",
     "output_type": "stream",
     "text": [
      "The merged and sorted array is [1, 2, 3, 4, 5, 6].\n"
     ]
    }
   ],
   "source": [
    "def merge_sorted_arrays(arr1, arr2):\n",
    "    merged = []\n",
    "    i, j = 0, 0\n",
    "    while i < len(arr1) and j < len(arr2):\n",
    "        if arr1[i] <= arr2[j]:\n",
    "            merged.append(arr1[i])\n",
    "            i += 1\n",
    "        else:\n",
    "            merged.append(arr2[j])\n",
    "            j += 1\n",
    "    # Add any remaining elements\n",
    "    while i < len(arr1):\n",
    "        merged.append(arr1[i])\n",
    "        i += 1\n",
    "    while j < len(arr2):\n",
    "        merged.append(arr2[j])\n",
    "        j += 1\n",
    "    return merged\n",
    "\n",
    "# Example usage:\n",
    "arr1 = [1, 3, 5]\n",
    "arr2 = [2, 4, 6]\n",
    "print(f\"The merged and sorted array is {merge_sorted_arrays(arr1, arr2)}.\")"
   ]
  },
  {
   "cell_type": "markdown",
   "id": "93e87013",
   "metadata": {},
   "source": [
    "### **Task 04:Binary Search Tree**"
   ]
  },
  {
   "cell_type": "markdown",
   "id": "e40fe2b3",
   "metadata": {},
   "source": [
    "**A Binary Search Tree is a node-based binary tree data structure where each node has a value, and the left child's value is less than the parent's, while the right child's value is greater. This structure allows for efficient searching, insertion, and deletion.**"
   ]
  },
  {
   "cell_type": "code",
   "execution_count": 4,
   "id": "f2abe735",
   "metadata": {},
   "outputs": [
    {
     "name": "stdout",
     "output_type": "stream",
     "text": [
      "Searching for 7: True\n",
      "Searching for 9: False\n"
     ]
    }
   ],
   "source": [
    "class Node:\n",
    "    def __init__(self, value):\n",
    "        self.value = value\n",
    "        self.left = None\n",
    "        self.right = None\n",
    "\n",
    "class BinarySearchTree:\n",
    "    def __init__(self):\n",
    "        self.root = None\n",
    "\n",
    "    def insert(self, value):\n",
    "        if self.root is None:\n",
    "            self.root = Node(value)\n",
    "        else:\n",
    "            self._insert_recursively(self.root, value)\n",
    "\n",
    "    def _insert_recursively(self, node, value):\n",
    "        if value < node.value:\n",
    "            if node.left is None:\n",
    "                node.left = Node(value)\n",
    "            else:\n",
    "                self._insert_recursively(node.left, value)\n",
    "        else:\n",
    "            if node.right is None:\n",
    "                node.right = Node(value)\n",
    "            else:\n",
    "                self._insert_recursively(node.right, value)\n",
    "\n",
    "    def search(self, value):\n",
    "        return self._search_recursively(self.root, value)\n",
    "\n",
    "    def _search_recursively(self, node, value):\n",
    "        if node is None or node.value == value:\n",
    "            return node\n",
    "        if value < node.value:\n",
    "            return self._search_recursively(node.left, value)\n",
    "        else:\n",
    "            return self._search_recursively(node.right, value)\n",
    "\n",
    "# Example usage:\n",
    "bst = BinarySearchTree()\n",
    "bst.insert(10)\n",
    "bst.insert(5)\n",
    "bst.insert(15)\n",
    "bst.insert(3)\n",
    "bst.insert(7)\n",
    "\n",
    "print(f\"Searching for 7: {bst.search(7) is not None}\")\n",
    "print(f\"Searching for 9: {bst.search(9) is not None}\")"
   ]
  },
  {
   "cell_type": "markdown",
   "id": "d883c37b",
   "metadata": {},
   "source": [
    "### **Task 05: Longest Palindromic Substring**"
   ]
  },
  {
   "cell_type": "markdown",
   "id": "2f58e8bb",
   "metadata": {},
   "source": [
    "**To find the longest palindromic substring, a common approach is to expand from the center. You can iterate through the string, considering each character as a potential center of a palindrome. Palindromes can be of odd length (e.g., \"aba\") or even length (e.g., \"abba\").**"
   ]
  },
  {
   "cell_type": "code",
   "execution_count": 5,
   "id": "54b64636",
   "metadata": {},
   "outputs": [
    {
     "name": "stdout",
     "output_type": "stream",
     "text": [
      "The longest palindromic substring in 'babad' is 'bab'.\n",
      "The longest palindromic substring in 'cbbd' is 'bb'.\n"
     ]
    }
   ],
   "source": [
    "def longest_palindromic_substring(s):\n",
    "    if not s:\n",
    "        return \"\"\n",
    "    start, max_len = 0, 1\n",
    "    def expand_from_center(left, right):\n",
    "        while left >= 0 and right < len(s) and s[left] == s[right]:\n",
    "            left -= 1\n",
    "            right += 1\n",
    "        return s[left + 1:right]\n",
    "\n",
    "    for i in range(len(s)):\n",
    "        # Odd length palindrome\n",
    "        palindrome1 = expand_from_center(i, i)\n",
    "        if len(palindrome1) > max_len:\n",
    "            max_len = len(palindrome1)\n",
    "            start = i - (max_len - 1) // 2\n",
    "\n",
    "        # Even length palindrome\n",
    "        palindrome2 = expand_from_center(i, i + 1)\n",
    "        if len(palindrome2) > max_len:\n",
    "            max_len = len(palindrome2)\n",
    "            start = i - (max_len // 2 - 1)\n",
    "\n",
    "    return s[start:start + max_len]\n",
    "\n",
    "# Example usage:\n",
    "s1 = \"babad\"\n",
    "print(f\"The longest palindromic substring in '{s1}' is '{longest_palindromic_substring(s1)}'.\")\n",
    "s2 = \"cbbd\"\n",
    "print(f\"The longest palindromic substring in '{s2}' is '{longest_palindromic_substring(s2)}'.\")"
   ]
  },
  {
   "cell_type": "markdown",
   "id": "b959bf5c",
   "metadata": {},
   "source": [
    "### ***Task 06: Merge Intervals**"
   ]
  },
  {
   "cell_type": "markdown",
   "id": "b0f58726",
   "metadata": {},
   "source": [
    "**To merge overlapping intervals, first sort the list of intervals based on their start times. Then, iterate through the sorted intervals and merge them if they overlap. An overlap occurs when the end time of the current interval is greater than or equal to the start time of the next interval.**"
   ]
  },
  {
   "cell_type": "code",
   "execution_count": 6,
   "id": "b9a1fb92",
   "metadata": {},
   "outputs": [
    {
     "name": "stdout",
     "output_type": "stream",
     "text": [
      "The merged intervals are [(1, 6), (8, 10), (15, 18)].\n"
     ]
    }
   ],
   "source": [
    "def merge_intervals(intervals):\n",
    "    if not intervals:\n",
    "        return []\n",
    "    intervals.sort(key=lambda x: x[0])\n",
    "    merged = [intervals[0]]\n",
    "    for i in range(1, len(intervals)):\n",
    "        last_interval_end = merged[-1][1]\n",
    "        current_interval_start = intervals[i][0]\n",
    "        current_interval_end = intervals[i][1]\n",
    "        \n",
    "        if current_interval_start <= last_interval_end:\n",
    "            merged[-1] = (merged[-1][0], max(last_interval_end, current_interval_end))\n",
    "        else:\n",
    "            merged.append(intervals[i])\n",
    "    return merged\n",
    "\n",
    "# Example usage:\n",
    "intervals = [(1, 3), (2, 6), (8, 10), (15, 18)]\n",
    "print(f\"The merged intervals are {merge_intervals(intervals)}.\")"
   ]
  },
  {
   "cell_type": "markdown",
   "id": "4ee488bc",
   "metadata": {},
   "source": [
    "### **Task 07: Maximum SubArray**"
   ]
  },
  {
   "cell_type": "markdown",
   "id": "fe839aac",
   "metadata": {},
   "source": [
    "**Kadane's algorithm is a dynamic programming approach to solve this problem efficiently. It iterates through the array, keeping track of the current maximum sum ending at the current position and the overall maximum sum found so far.**"
   ]
  },
  {
   "cell_type": "code",
   "execution_count": 7,
   "id": "b7c71e32",
   "metadata": {},
   "outputs": [
    {
     "name": "stdout",
     "output_type": "stream",
     "text": [
      "The maximum subarray sum is 6.\n"
     ]
    }
   ],
   "source": [
    "def max_subarray(nums):\n",
    "    max_so_far = nums[0]\n",
    "    max_ending_here = nums[0]\n",
    "    for i in range(1, len(nums)):\n",
    "        max_ending_here = max(nums[i], max_ending_here + nums[i])\n",
    "        max_so_far = max(max_so_far, max_ending_here)\n",
    "    return max_so_far\n",
    "\n",
    "# Example usage:\n",
    "nums = [-2, 1, -3, 4, -1, 2, 1, -5, 4]\n",
    "print(f\"The maximum subarray sum is {max_subarray(nums)}.\")"
   ]
  },
  {
   "cell_type": "markdown",
   "id": "c92f9f96",
   "metadata": {},
   "source": [
    "### **Task 08: Reverse Linked List**"
   ]
  },
  {
   "cell_type": "markdown",
   "id": "7e61a14f",
   "metadata": {},
   "source": [
    "**Reversing a singly-linked list can be done by iterating through it and changing each node's next pointer to point to the previous node. You need three pointers: prev (to keep track of the previously visited node), current (the node being processed), and next_node (to save the next node before overwriting the current node's next pointer)**"
   ]
  },
  {
   "cell_type": "code",
   "execution_count": 8,
   "id": "882d5c9e",
   "metadata": {},
   "outputs": [
    {
     "name": "stdout",
     "output_type": "stream",
     "text": [
      "Original linked list: 1 -> 2 -> 3 -> 4 -> 5\n",
      "Reversed linked list: 5 -> 4 -> 3 -> 2 -> 1\n"
     ]
    }
   ],
   "source": [
    "class Node:\n",
    "    def __init__(self, value=0, next_node=None):\n",
    "        self.value = value\n",
    "        self.next = next_node\n",
    "\n",
    "def reverse_linked_list(head):\n",
    "    prev = None\n",
    "    current = head\n",
    "    while current:\n",
    "        next_node = current.next\n",
    "        current.next = prev\n",
    "        prev = current\n",
    "        current = next_node\n",
    "    return prev\n",
    "\n",
    "def print_linked_list(head):\n",
    "    result = []\n",
    "    current = head\n",
    "    while current:\n",
    "        result.append(current.value)\n",
    "        current = current.next\n",
    "    return \" -> \".join(map(str, result))\n",
    "\n",
    "# Example usage:\n",
    "head = Node(1, Node(2, Node(3, Node(4, Node(5)))))\n",
    "print(f\"Original linked list: {print_linked_list(head)}\")\n",
    "reversed_head = reverse_linked_list(head)\n",
    "print(f\"Reversed linked list: {print_linked_list(reversed_head)}\")"
   ]
  },
  {
   "cell_type": "markdown",
   "id": "e1fe0f4f",
   "metadata": {},
   "source": [
    "### **Task 09: Minimum Edit Distance**"
   ]
  },
  {
   "cell_type": "markdown",
   "id": "3429350d",
   "metadata": {},
   "source": [
    "**This is a classic dynamic programming problem. The Levenshtein distance algorithm is used to find the minimum number of single-character edits (insertions, deletions, or substitutions) required to change one word into another. A 2D array (or matrix) is used to store the minimum edit distances between prefixes of the two strings.**"
   ]
  },
  {
   "cell_type": "code",
   "execution_count": 9,
   "id": "8a8221ba",
   "metadata": {},
   "outputs": [
    {
     "name": "stdout",
     "output_type": "stream",
     "text": [
      "The minimum edit distance between 'kitten' and 'sitting' is 3.\n"
     ]
    }
   ],
   "source": [
    "def min_edit_distance(word1, word2):\n",
    "    m, n = len(word1), len(word2)\n",
    "    dp = [[0] * (n + 1) for _ in range(m + 1)]\n",
    "    for i in range(m + 1):\n",
    "        dp[i][0] = i\n",
    "    for j in range(n + 1):\n",
    "        dp[0][j] = j\n",
    "    for i in range(1, m + 1):\n",
    "        for j in range(1, n + 1):\n",
    "            if word1[i - 1] == word2[j - 1]:\n",
    "                dp[i][j] = dp[i - 1][j - 1]\n",
    "            else:\n",
    "                dp[i][j] = 1 + min(dp[i - 1][j],      # Deletion\n",
    "                                  dp[i][j - 1],      # Insertion\n",
    "                                  dp[i - 1][j - 1])  # Substitution\n",
    "    return dp[m][n]\n",
    "\n",
    "# Example usage:\n",
    "word1 = \"kitten\"\n",
    "word2 = \"sitting\"\n",
    "print(f\"The minimum edit distance between '{word1}' and '{word2}' is {min_edit_distance(word1, word2)}.\")"
   ]
  },
  {
   "cell_type": "markdown",
   "id": "798bcb72",
   "metadata": {},
   "source": [
    "### **Task 10: Boggle Game**"
   ]
  },
  {
   "cell_type": "markdown",
   "id": "48adab93",
   "metadata": {},
   "source": [
    "**Solving a Boggle game involves using Depth-First Search (DFS) or a similar graph traversal algorithm. You can treat the Boggle board as a graph where each letter is a node and adjacent letters are connected. You then traverse from each cell, building up words and checking if they exist in a given dictionary.**"
   ]
  },
  {
   "cell_type": "code",
   "execution_count": 10,
   "id": "a7093cc4",
   "metadata": {},
   "outputs": [
    {
     "name": "stdout",
     "output_type": "stream",
     "text": [
      "The words found in the Boggle board are:\n",
      "EAT\n",
      "OATH\n"
     ]
    }
   ],
   "source": [
    "def boggle_solver(board, words):\n",
    "    found_words = set()\n",
    "    rows, cols = len(board), len(board[0])\n",
    "    word_set = set(words)\n",
    "    \n",
    "    def dfs(r, c, path, current_word):\n",
    "        if (r, c) in path:\n",
    "            return\n",
    "        \n",
    "        path.add((r, c))\n",
    "        current_word += board[r][c]\n",
    "        \n",
    "        if current_word in word_set:\n",
    "            found_words.add(current_word)\n",
    "        \n",
    "        # Explore neighbors\n",
    "        for dr, dc in [(0, 1), (0, -1), (1, 0), (-1, 0), (1, 1), (1, -1), (-1, 1), (-1, -1)]:\n",
    "            new_r, new_c = r + dr, c + dc\n",
    "            if 0 <= new_r < rows and 0 <= new_c < cols:\n",
    "                dfs(new_r, new_c, path.copy(), current_word)\n",
    "    \n",
    "    for r in range(rows):\n",
    "        for c in range(cols):\n",
    "            dfs(r, c, set(), \"\")\n",
    "            \n",
    "    return found_words\n",
    "\n",
    "# Example usage:\n",
    "board = [\n",
    "    ['O', 'A', 'A', 'N'],\n",
    "    ['E', 'T', 'A', 'E'],\n",
    "    ['I', 'H', 'K', 'R'],\n",
    "    ['L', 'R', 'S', 'S']\n",
    "]\n",
    "words_list = [\"OATH\", \"PEAR\", \"EAT\", \"RAIN\", \"RATS\", \"SAT\"]\n",
    "found = boggle_solver(board, words_list)\n",
    "print(\"The words found in the Boggle board are:\")\n",
    "for word in sorted(list(found)):\n",
    "    print(word)"
   ]
  },
  {
   "cell_type": "markdown",
   "id": "d9757adc",
   "metadata": {},
   "source": [
    "### **Task 11: Fibonacci Generator**"
   ]
  },
  {
   "cell_type": "markdown",
   "id": "cf216079",
   "metadata": {},
   "source": [
    "**A generator function in Python uses the yield keyword to produce a sequence of values, one at a time, instead of returning a single value and terminating. This is memory efficient for large sequences like the Fibonacci series.**"
   ]
  },
  {
   "cell_type": "code",
   "execution_count": 11,
   "id": "23fb52d3",
   "metadata": {},
   "outputs": [
    {
     "name": "stdout",
     "output_type": "stream",
     "text": [
      "0\n",
      "1\n",
      "1\n",
      "2\n",
      "3\n",
      "5\n",
      "8\n",
      "13\n",
      "21\n",
      "34\n"
     ]
    }
   ],
   "source": [
    "def fibonacci_generator(n):\n",
    "    a, b = 0, 1\n",
    "    count = 0\n",
    "    while count < n:\n",
    "        yield a\n",
    "        a, b = b, a + b\n",
    "        count += 1\n",
    "\n",
    "# Example usage:\n",
    "for num in fibonacci_generator(10):\n",
    "    print(num)"
   ]
  }
 ],
 "metadata": {
  "kernelspec": {
   "display_name": "Python (myenv)",
   "language": "python",
   "name": "myenv"
  },
  "language_info": {
   "codemirror_mode": {
    "name": "ipython",
    "version": 3
   },
   "file_extension": ".py",
   "mimetype": "text/x-python",
   "name": "python",
   "nbconvert_exporter": "python",
   "pygments_lexer": "ipython3",
   "version": "3.13.3"
  }
 },
 "nbformat": 4,
 "nbformat_minor": 5
}
